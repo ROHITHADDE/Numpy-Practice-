{
 "cells": [
  {
   "cell_type": "code",
   "execution_count": 3,
   "id": "22cf3292-e7ab-4a0a-a2dc-793e4febf269",
   "metadata": {},
   "outputs": [],
   "source": [
    "import numpy as np"
   ]
  },
  {
   "cell_type": "code",
   "execution_count": 8,
   "id": "c98461bc-56d5-4b46-980a-c7fd3eb56c99",
   "metadata": {},
   "outputs": [
    {
     "data": {
      "text/plain": [
       "array([[69, 57,  9, 94, 84, 20, 65, 32, 98, 14],\n",
       "       [51, 64,  2, 83, 11, 12, 10, 39,  3, 29],\n",
       "       [ 5, 14, 64, 35, 53, 41, 83, 77,  6, 83],\n",
       "       [19, 12, 18, 28, 16, 84, 47, 48,  7, 90],\n",
       "       [58, 91, 83, 75, 66,  2, 54, 71, 67, 39],\n",
       "       [23, 53, 89, 71,  7, 19,  2, 39, 29, 66],\n",
       "       [74, 16, 66, 46, 62,  6, 63, 36, 15, 26],\n",
       "       [54, 35, 89, 50, 72, 51, 84, 44,  4, 51],\n",
       "       [73, 83, 45, 75, 46, 10, 98, 98, 40, 33],\n",
       "       [63, 32, 13, 77, 20, 37, 42, 34, 97, 99]])"
      ]
     },
     "execution_count": 8,
     "metadata": {},
     "output_type": "execute_result"
    }
   ],
   "source": [
    "arr=np.random.randint(1,100,(10,10))\n",
    "arr"
   ]
  },
  {
   "cell_type": "markdown",
   "id": "9faf2fd5-1274-416a-a924-e02e2066d927",
   "metadata": {},
   "source": [
    "# Slicing "
   ]
  },
  {
   "cell_type": "code",
   "execution_count": 9,
   "id": "b553b748-0788-4c16-bb45-5cf779c0eff3",
   "metadata": {},
   "outputs": [
    {
     "data": {
      "text/plain": [
       "array([[69, 57,  9, 94, 84, 20, 65, 32, 98, 14],\n",
       "       [51, 64,  2, 83, 11, 12, 10, 39,  3, 29],\n",
       "       [ 5, 14, 64, 35, 53, 41, 83, 77,  6, 83],\n",
       "       [19, 12, 18, 28, 16, 84, 47, 48,  7, 90],\n",
       "       [58, 91, 83, 75, 66,  2, 54, 71, 67, 39],\n",
       "       [23, 53, 89, 71,  7, 19,  2, 39, 29, 66],\n",
       "       [74, 16, 66, 46, 62,  6, 63, 36, 15, 26],\n",
       "       [54, 35, 89, 50, 72, 51, 84, 44,  4, 51],\n",
       "       [73, 83, 45, 75, 46, 10, 98, 98, 40, 33],\n",
       "       [63, 32, 13, 77, 20, 37, 42, 34, 97, 99]])"
      ]
     },
     "execution_count": 9,
     "metadata": {},
     "output_type": "execute_result"
    }
   ],
   "source": [
    "arr\n"
   ]
  },
  {
   "cell_type": "code",
   "execution_count": 10,
   "id": "0fa3f066-d38c-4adb-877b-5419c5b5f02a",
   "metadata": {},
   "outputs": [
    {
     "data": {
      "text/plain": [
       "array([[ 5, 14, 64, 35, 53, 41, 83, 77,  6, 83],\n",
       "       [19, 12, 18, 28, 16, 84, 47, 48,  7, 90],\n",
       "       [58, 91, 83, 75, 66,  2, 54, 71, 67, 39]])"
      ]
     },
     "execution_count": 10,
     "metadata": {},
     "output_type": "execute_result"
    }
   ],
   "source": [
    "arr[2:5]"
   ]
  },
  {
   "cell_type": "code",
   "execution_count": 11,
   "id": "588270f0-99fd-46a7-b386-501eb2808656",
   "metadata": {},
   "outputs": [
    {
     "data": {
      "text/plain": [
       "array([[69, 57,  9, 94, 84, 20, 65, 32, 98, 14],\n",
       "       [51, 64,  2, 83, 11, 12, 10, 39,  3, 29],\n",
       "       [ 5, 14, 64, 35, 53, 41, 83, 77,  6, 83],\n",
       "       [19, 12, 18, 28, 16, 84, 47, 48,  7, 90],\n",
       "       [58, 91, 83, 75, 66,  2, 54, 71, 67, 39],\n",
       "       [23, 53, 89, 71,  7, 19,  2, 39, 29, 66],\n",
       "       [74, 16, 66, 46, 62,  6, 63, 36, 15, 26],\n",
       "       [54, 35, 89, 50, 72, 51, 84, 44,  4, 51],\n",
       "       [73, 83, 45, 75, 46, 10, 98, 98, 40, 33]])"
      ]
     },
     "execution_count": 11,
     "metadata": {},
     "output_type": "execute_result"
    }
   ],
   "source": [
    "arr[0:-1]"
   ]
  },
  {
   "cell_type": "code",
   "execution_count": 12,
   "id": "7a384a97-a938-494f-9df4-051d46fae1b0",
   "metadata": {},
   "outputs": [
    {
     "data": {
      "text/plain": [
       "array([[74, 16, 66, 46, 62,  6, 63, 36, 15, 26],\n",
       "       [54, 35, 89, 50, 72, 51, 84, 44,  4, 51],\n",
       "       [73, 83, 45, 75, 46, 10, 98, 98, 40, 33]])"
      ]
     },
     "execution_count": 12,
     "metadata": {},
     "output_type": "execute_result"
    }
   ],
   "source": [
    "arr[-4:-1]"
   ]
  },
  {
   "cell_type": "code",
   "execution_count": 13,
   "id": "1555579c-7edd-4ff4-ac48-50d74adf7b31",
   "metadata": {},
   "outputs": [
    {
     "data": {
      "text/plain": [
       "array([[69, 57,  9, 94, 84, 20, 65, 32, 98, 14],\n",
       "       [51, 64,  2, 83, 11, 12, 10, 39,  3, 29],\n",
       "       [ 5, 14, 64, 35, 53, 41, 83, 77,  6, 83],\n",
       "       [19, 12, 18, 28, 16, 84, 47, 48,  7, 90],\n",
       "       [58, 91, 83, 75, 66,  2, 54, 71, 67, 39],\n",
       "       [23, 53, 89, 71,  7, 19,  2, 39, 29, 66],\n",
       "       [74, 16, 66, 46, 62,  6, 63, 36, 15, 26],\n",
       "       [54, 35, 89, 50, 72, 51, 84, 44,  4, 51],\n",
       "       [73, 83, 45, 75, 46, 10, 98, 98, 40, 33]])"
      ]
     },
     "execution_count": 13,
     "metadata": {},
     "output_type": "execute_result"
    }
   ],
   "source": [
    "arr[:-1]"
   ]
  },
  {
   "cell_type": "code",
   "execution_count": 14,
   "id": "d52ee180-df0b-46c3-bf58-71c9e6217f1f",
   "metadata": {},
   "outputs": [
    {
     "data": {
      "text/plain": [
       "array([[58, 91, 83, 75, 66,  2, 54, 71, 67, 39],\n",
       "       [23, 53, 89, 71,  7, 19,  2, 39, 29, 66],\n",
       "       [74, 16, 66, 46, 62,  6, 63, 36, 15, 26],\n",
       "       [54, 35, 89, 50, 72, 51, 84, 44,  4, 51],\n",
       "       [73, 83, 45, 75, 46, 10, 98, 98, 40, 33],\n",
       "       [63, 32, 13, 77, 20, 37, 42, 34, 97, 99]])"
      ]
     },
     "execution_count": 14,
     "metadata": {},
     "output_type": "execute_result"
    }
   ],
   "source": [
    "arr[4:]"
   ]
  },
  {
   "cell_type": "code",
   "execution_count": 16,
   "id": "0cd9ee6f-8def-4a76-a43f-bdfdffb14629",
   "metadata": {},
   "outputs": [
    {
     "data": {
      "text/plain": [
       "array([[69, 57,  9, 94, 84, 20, 65, 32, 98, 14],\n",
       "       [51, 64,  2, 83, 11, 12, 10, 39,  3, 29],\n",
       "       [ 5, 14, 64, 35, 53, 41, 83, 77,  6, 83],\n",
       "       [19, 12, 18, 28, 16, 84, 47, 48,  7, 90],\n",
       "       [58, 91, 83, 75, 66,  2, 54, 71, 67, 39],\n",
       "       [23, 53, 89, 71,  7, 19,  2, 39, 29, 66],\n",
       "       [74, 16, 66, 46, 62,  6, 63, 36, 15, 26],\n",
       "       [54, 35, 89, 50, 72, 51, 84, 44,  4, 51],\n",
       "       [73, 83, 45, 75, 46, 10, 98, 98, 40, 33],\n",
       "       [63, 32, 13, 77, 20, 37, 42, 34, 97, 99]])"
      ]
     },
     "execution_count": 16,
     "metadata": {},
     "output_type": "execute_result"
    }
   ],
   "source": [
    "arr\n"
   ]
  },
  {
   "cell_type": "code",
   "execution_count": 15,
   "id": "478e91ee-d4fa-479c-8c8b-7dc3a47a5c20",
   "metadata": {},
   "outputs": [
    {
     "data": {
      "text/plain": [
       "array([[69, 57,  9, 94, 84, 20, 65, 32, 98, 14],\n",
       "       [ 5, 14, 64, 35, 53, 41, 83, 77,  6, 83],\n",
       "       [58, 91, 83, 75, 66,  2, 54, 71, 67, 39]])"
      ]
     },
     "execution_count": 15,
     "metadata": {},
     "output_type": "execute_result"
    }
   ],
   "source": [
    "arr[0:6:2]"
   ]
  },
  {
   "cell_type": "code",
   "execution_count": 17,
   "id": "c348b8c7-648f-4547-baf2-a0e1ce419268",
   "metadata": {},
   "outputs": [
    {
     "data": {
      "text/plain": [
       "array([[63, 32, 13, 77, 20, 37, 42, 34, 97, 99],\n",
       "       [74, 16, 66, 46, 62,  6, 63, 36, 15, 26],\n",
       "       [19, 12, 18, 28, 16, 84, 47, 48,  7, 90]])"
      ]
     },
     "execution_count": 17,
     "metadata": {},
     "output_type": "execute_result"
    }
   ],
   "source": [
    "arr[-1:-8:-3]"
   ]
  },
  {
   "cell_type": "code",
   "execution_count": 20,
   "id": "70b43e1f-0eec-4eaa-92a3-994de3230949",
   "metadata": {},
   "outputs": [
    {
     "data": {
      "text/plain": [
       "array([[ 5, 14, 64, 35, 53, 41, 83, 77,  6, 83],\n",
       "       [58, 91, 83, 75, 66,  2, 54, 71, 67, 39],\n",
       "       [74, 16, 66, 46, 62,  6, 63, 36, 15, 26],\n",
       "       [73, 83, 45, 75, 46, 10, 98, 98, 40, 33]])"
      ]
     },
     "execution_count": 20,
     "metadata": {},
     "output_type": "execute_result"
    }
   ],
   "source": [
    "arr[2:-1:2]"
   ]
  },
  {
   "cell_type": "code",
   "execution_count": 22,
   "id": "e0acd8dd-0e0d-43d1-a8b6-91a2e131ca63",
   "metadata": {},
   "outputs": [
    {
     "data": {
      "text/plain": [
       "array([[63, 32, 13, 77, 20, 37, 42, 34, 97, 99],\n",
       "       [73, 83, 45, 75, 46, 10, 98, 98, 40, 33],\n",
       "       [54, 35, 89, 50, 72, 51, 84, 44,  4, 51],\n",
       "       [74, 16, 66, 46, 62,  6, 63, 36, 15, 26],\n",
       "       [23, 53, 89, 71,  7, 19,  2, 39, 29, 66],\n",
       "       [58, 91, 83, 75, 66,  2, 54, 71, 67, 39],\n",
       "       [19, 12, 18, 28, 16, 84, 47, 48,  7, 90],\n",
       "       [ 5, 14, 64, 35, 53, 41, 83, 77,  6, 83],\n",
       "       [51, 64,  2, 83, 11, 12, 10, 39,  3, 29],\n",
       "       [69, 57,  9, 94, 84, 20, 65, 32, 98, 14]])"
      ]
     },
     "execution_count": 22,
     "metadata": {},
     "output_type": "execute_result"
    }
   ],
   "source": [
    "arr[::-1]"
   ]
  },
  {
   "cell_type": "code",
   "execution_count": 27,
   "id": "5432a14e-1b06-42af-812c-94cd488d9f0d",
   "metadata": {},
   "outputs": [
    {
     "data": {
      "text/plain": [
       "16"
      ]
     },
     "execution_count": 27,
     "metadata": {},
     "output_type": "execute_result"
    }
   ],
   "source": [
    "arr[3,4]"
   ]
  },
  {
   "cell_type": "code",
   "execution_count": 28,
   "id": "3cfd77ee-7222-4e0c-b78d-bc448084e856",
   "metadata": {},
   "outputs": [
    {
     "data": {
      "text/plain": [
       "array([[69, 57,  9, 94, 84, 20, 65, 32, 98, 14],\n",
       "       [51, 64,  2, 83, 11, 12, 10, 39,  3, 29],\n",
       "       [ 5, 14, 64, 35, 53, 41, 83, 77,  6, 83],\n",
       "       [19, 12, 18, 28, 16, 84, 47, 48,  7, 90],\n",
       "       [58, 91, 83, 75, 66,  2, 54, 71, 67, 39],\n",
       "       [23, 53, 89, 71,  7, 19,  2, 39, 29, 66],\n",
       "       [74, 16, 66, 46, 62,  6, 63, 36, 15, 26],\n",
       "       [54, 35, 89, 50, 72, 51, 84, 44,  4, 51],\n",
       "       [73, 83, 45, 75, 46, 10, 98, 98, 40, 33],\n",
       "       [63, 32, 13, 77, 20, 37, 42, 34, 97, 99]])"
      ]
     },
     "execution_count": 28,
     "metadata": {},
     "output_type": "execute_result"
    }
   ],
   "source": [
    "arr"
   ]
  },
  {
   "cell_type": "code",
   "execution_count": 29,
   "id": "01ae8530-ac28-46f9-a7e2-4275888f3764",
   "metadata": {},
   "outputs": [
    {
     "ename": "IndexError",
     "evalue": "too many indices for array: array is 2-dimensional, but 3 were indexed",
     "output_type": "error",
     "traceback": [
      "\u001b[1;31m---------------------------------------------------------------------------\u001b[0m",
      "\u001b[1;31mIndexError\u001b[0m                                Traceback (most recent call last)",
      "Cell \u001b[1;32mIn[29], line 1\u001b[0m\n\u001b[1;32m----> 1\u001b[0m arr[\u001b[38;5;241m2\u001b[39m,\u001b[38;5;241m6\u001b[39m:\u001b[38;5;241m2\u001b[39m,\u001b[38;5;241m6\u001b[39m]\n",
      "\u001b[1;31mIndexError\u001b[0m: too many indices for array: array is 2-dimensional, but 3 were indexed"
     ]
    }
   ],
   "source": [
    "arr[2,6:2,6]"
   ]
  },
  {
   "cell_type": "code",
   "execution_count": null,
   "id": "fff1629c-1f20-4839-b411-81029def3122",
   "metadata": {},
   "outputs": [],
   "source": []
  }
 ],
 "metadata": {
  "kernelspec": {
   "display_name": "Python 3 (ipykernel)",
   "language": "python",
   "name": "python3"
  },
  "language_info": {
   "codemirror_mode": {
    "name": "ipython",
    "version": 3
   },
   "file_extension": ".py",
   "mimetype": "text/x-python",
   "name": "python",
   "nbconvert_exporter": "python",
   "pygments_lexer": "ipython3",
   "version": "3.12.7"
  }
 },
 "nbformat": 4,
 "nbformat_minor": 5
}
